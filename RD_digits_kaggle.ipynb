{
  "nbformat": 4,
  "nbformat_minor": 0,
  "metadata": {
    "colab": {
      "name": "RD_digits_kaggle.ipynb",
      "provenance": [],
      "collapsed_sections": []
    },
    "kernelspec": {
      "name": "python3",
      "display_name": "Python 3"
    },
    "language_info": {
      "name": "python"
    }
  },
  "cells": [
    {
      "cell_type": "code",
      "metadata": {
        "id": "l7jLtX2giSyS",
        "colab": {
          "base_uri": "https://localhost:8080/",
          "height": 836
        },
        "outputId": "34a9a7c1-f3c9-445d-95e2-edb2c827c5a1"
      },
      "source": [
        "import pandas as pd\n",
        "import numpy as np\n",
        "import torch\n",
        "%matplotlib inline \n",
        "from matplotlib import pyplot as plt\n",
        "\n",
        "\n",
        "from google.colab import drive\n",
        "drive.mount('/content/drive')\n",
        "\n",
        "dt_train_path = \"drive/MyDrive/Kaggle_digits/train.csv\"\n",
        "dt_test_path = \"drive/MyDrive/Kaggle_digits/test.csv\"\n",
        "\n",
        "# open CSV with pandas, then convert to numpy and splice into data and labels\n",
        "dt_train_1d = pd.read_csv(dt_train_path).values\n",
        "dt_train = dt_train_1d[:, 1:]\n",
        "dt_train_labels = dt_train_1d[:, 0]\n",
        "\n",
        "# no labels in test data.\n",
        "dt_test = pd.read_csv(dt_test_path).values\n",
        "\n",
        "print(dt_train.shape)\n",
        "print(dt_test.shape)\n",
        "\n",
        "# convert 784 into 28x28\n",
        "dt_train = np.reshape(dt_train, (dt_train.shape[0], 28, 28))\n",
        "dt_test = np.reshape(dt_test, (dt_test.shape[0], 28, 28))\n",
        "\n",
        "print(dt_train_labels[10])\n",
        "plt.imshow(dt_train[10])\n",
        "plt.show()\n",
        "plt.imshow(dt_test[12])\n",
        "plt.show()\n",
        "\n",
        "\n",
        "# n_out = ((n_in + 2p - k) / s) + 1\n",
        "model = torch.nn.Sequential(\n",
        "    torch.nn.Conv2d(1, 32, 3, 1, 1), #28->28\n",
        "    torch.nn.ReLU(),\n",
        "    torch.nn.MaxPool2d(2, 2), #28->14\n",
        "    torch.nn.Conv2d(32, 64, 3, 1, 1), #14->14\n",
        "    torch.nn.ReLU(),\n",
        "    torch.nn.MaxPool2d(2, 2), #14->7\n",
        "    torch.nn.Conv2d(64, 128, 3, 1, 1), #7->7\n",
        "    torch.nn.ReLU(),\n",
        "    torch.nn.Flatten(),\n",
        "    torch.nn.Linear(896, 1024),\n",
        "    torch.nn.ReLU(),\n",
        "    torch.nn.Linear(1024, 10),\n",
        "    torch.nn.Sigmoid()\n",
        ")\n",
        "\n",
        "loss_function = torch.nn.CrossEntropyLoss()\n",
        "optimizer = torch.optim.Adam(model.parameters())\n",
        "\n",
        "print(model)\n",
        "\n",
        "for epoch in range(0, 20):\n",
        "  model.train()\n",
        "  "
      ],
      "execution_count": 53,
      "outputs": [
        {
          "output_type": "stream",
          "text": [
            "Drive already mounted at /content/drive; to attempt to forcibly remount, call drive.mount(\"/content/drive\", force_remount=True).\n",
            "(42000, 784)\n",
            "(28000, 784)\n",
            "8\n"
          ],
          "name": "stdout"
        },
        {
          "output_type": "display_data",
          "data": {
            "image/png": "[encoded data removed]",
            "text/plain": [
              "<Figure size 432x288 with 1 Axes>"
            ]
          },
          "metadata": {
            "tags": [],
            "needs_background": "light"
          }
        },
        {
          "output_type": "display_data",
          "data": {
            "image/png": "[encoded data removed]",
            "text/plain": [
              "<Figure size 432x288 with 1 Axes>"
            ]
          },
          "metadata": {
            "tags": [],
            "needs_background": "light"
          }
        },
        {
          "output_type": "stream",
          "text": [
            "Sequential(\n",
            "  (0): Conv2d(1, 32, kernel_size=(3, 3), stride=(1, 1), padding=(1, 1))\n",
            "  (1): ReLU()\n",
            "  (2): MaxPool2d(kernel_size=2, stride=2, padding=0, dilation=1, ceil_mode=False)\n",
            "  (3): Conv2d(32, 64, kernel_size=(3, 3), stride=(1, 1), padding=(1, 1))\n",
            "  (4): ReLU()\n",
            "  (5): MaxPool2d(kernel_size=2, stride=2, padding=0, dilation=1, ceil_mode=False)\n",
            "  (6): Conv2d(64, 128, kernel_size=(3, 3), stride=(1, 1), padding=(1, 1))\n",
            "  (7): ReLU()\n",
            "  (8): Flatten(start_dim=1, end_dim=-1)\n",
            "  (9): Linear(in_features=896, out_features=1024, bias=True)\n",
            "  (10): ReLU()\n",
            "  (11): Linear(in_features=1024, out_features=10, bias=True)\n",
            "  (12): Sigmoid()\n",
            ")\n"
          ],
          "name": "stdout"
        }
      ]
    },
    {
      "cell_type": "code",
      "metadata": {
        "id": "emZ_JdNVznxv"
      },
      "source": [
        ""
      ],
      "execution_count": null,
      "outputs": []
    }
  ]
}