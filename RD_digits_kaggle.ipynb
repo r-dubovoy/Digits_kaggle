{
  "nbformat": 4,
  "nbformat_minor": 0,
  "metadata": {
    "colab": {
      "name": "RD_digits_kaggle.ipynb",
      "provenance": [],
      "collapsed_sections": []
    },
    "kernelspec": {
      "name": "python3",
      "display_name": "Python 3"
    },
    "language_info": {
      "name": "python"
    }
  },
  "cells": [
    {
      "cell_type": "code",
      "metadata": {
        "id": "l7jLtX2giSyS"
      },
      "source": [
        "import pandas as pd\n",
        "import numpy as np\n",
        "import torch\n",
        "from torch.utils.data import TensorDataset, DataLoader\n",
        "from torch import nn\n",
        "%matplotlib inline \n",
        "from matplotlib import pyplot as plt\n",
        "\n",
        "\n",
        "from google.colab import drive\n",
        "drive.mount('/content/drive')\n",
        "\n",
        "dt_train_path = \"drive/MyDrive/Kaggle_digits/train.csv\"\n",
        "dt_test_path = \"drive/MyDrive/Kaggle_digits/test.csv\"\n",
        "\n",
        "# open CSV with pandas, then convert to numpy and splice into data and labels\n",
        "dt_train_1d = pd.read_csv(dt_train_path).values\n",
        "dt_train = dt_train_1d[:, 1:]\n",
        "dt_train_labels = dt_train_1d[:, 0]\n",
        "\n",
        "# no labels in test data.\n",
        "dt_test = pd.read_csv(dt_test_path).values\n",
        "\n",
        "print(dt_train.shape)\n",
        "print(dt_test.shape)\n",
        "\n",
        "# convert 784 into 28x28\n",
        "dt_train = np.reshape(dt_train, (dt_train.shape[0], 28, 28))\n",
        "dt_test = np.reshape(dt_test, (dt_test.shape[0], 28, 28))\n",
        "\n",
        "print(dt_train_labels[10])\n",
        "plt.imshow(dt_train[10])\n",
        "plt.show()\n",
        "plt.imshow(dt_test[12])\n",
        "plt.show()\n",
        "\n"
      ],
      "execution_count": null,
      "outputs": []
    },
    {
      "cell_type": "code",
      "metadata": {
        "colab": {
          "base_uri": "https://localhost:8080/"
        },
        "id": "aEUyNhTNAPcQ",
        "outputId": "f1bfa3c1-8647-4808-e818-8d3d9697a529"
      },
      "source": [
        "# out = ((n + 2p - k)/s) + 1\n",
        "# \n",
        "class MyModel(torch.nn.Module):\n",
        "  def __init__(self):\n",
        "    super(MyModel, self).__init__()\n",
        "    self.conv1 = nn.Sequential(\n",
        "      nn.Conv2d(1, 8, 3, 1, 1), #28->28\n",
        "      nn.ReLU(),\n",
        "      nn.MaxPool2d(2, 2),\n",
        "      nn.BatchNorm2d(8)) #28->14\n",
        "    self.conv2 = nn.Sequential(\n",
        "        nn.Conv2d(8, 16, 3, 1, 1),           #14->14\n",
        "        nn.ReLU(),\n",
        "        nn.MaxPool2d(2, 2),\n",
        "        nn.BatchNorm2d(16)) #14->7\n",
        "    self.conv3 = nn.Sequential(\n",
        "        nn.Conv2d(16, 32, 3, 1, 1), #7->7\n",
        "        nn.ReLU(),\n",
        "        nn.BatchNorm2d(32)\n",
        "    )\n",
        "    self.flatten = nn.Flatten()\n",
        "    self.fc1 = nn.Sequential(\n",
        "        nn.Linear(7*7*32, 728),\n",
        "        nn.Sigmoid())\n",
        "    self.fc2 = nn.Sequential(\n",
        "        nn.Linear(728, 10),\n",
        "        nn.Sigmoid()\n",
        "    )\n",
        "\n",
        "  def forward(self, x):\n",
        "    x = self.conv1(x)\n",
        "    x = self.conv2(x)\n",
        "    x = self.conv3(x)\n",
        "    x = self.flatten(x)\n",
        "    x = self.fc1(x)\n",
        "    x = self.fc2(x)\n",
        "    return x\n",
        "\n"
      ],
      "execution_count": 64,
      "outputs": [
        {
          "output_type": "stream",
          "text": [
            "MyModel(\n",
            "  (conv1): Sequential(\n",
            "    (0): Conv2d(1, 8, kernel_size=(3, 3), stride=(1, 1), padding=(1, 1))\n",
            "    (1): ReLU()\n",
            "    (2): MaxPool2d(kernel_size=2, stride=2, padding=0, dilation=1, ceil_mode=False)\n",
            "    (3): BatchNorm2d(8, eps=1e-05, momentum=0.1, affine=True, track_running_stats=True)\n",
            "  )\n",
            "  (conv2): Sequential(\n",
            "    (0): Conv2d(8, 16, kernel_size=(3, 3), stride=(1, 1), padding=(1, 1))\n",
            "    (1): ReLU()\n",
            "    (2): MaxPool2d(kernel_size=2, stride=2, padding=0, dilation=1, ceil_mode=False)\n",
            "    (3): BatchNorm2d(16, eps=1e-05, momentum=0.1, affine=True, track_running_stats=True)\n",
            "  )\n",
            "  (conv3): Sequential(\n",
            "    (0): Conv2d(16, 32, kernel_size=(3, 3), stride=(1, 1), padding=(1, 1))\n",
            "    (1): ReLU()\n",
            "    (2): BatchNorm2d(32, eps=1e-05, momentum=0.1, affine=True, track_running_stats=True)\n",
            "  )\n",
            "  (flatten): Flatten(start_dim=1, end_dim=-1)\n",
            "  (fc1): Sequential(\n",
            "    (0): Linear(in_features=1568, out_features=728, bias=True)\n",
            "    (1): Sigmoid()\n",
            "  )\n",
            "  (fc2): Sequential(\n",
            "    (0): Linear(in_features=728, out_features=10, bias=True)\n",
            "    (1): Sigmoid()\n",
            "  )\n",
            ")\n",
            "1155522\n"
          ],
          "name": "stdout"
        }
      ]
    },
    {
      "cell_type": "code",
      "metadata": {
        "id": "emZ_JdNVznxv"
      },
      "source": [
        "tensor_train = torch.Tensor(dt_train)\n",
        "tensor_train = tensor_train.unsqueeze(1)\n",
        "tensor_test = torch.Tensor(dt_test)\n",
        "tensor_test = tensor_test.unsqueeze(1)\n",
        "tensor_train_labels = torch.Tensor(dt_train_labels)\n",
        "\n",
        "\n",
        "train_dataset = TensorDataset(tensor_train, tensor_train_labels)\n",
        "train_dataset, eval_dataset = torch.utils.data.random_split(train_dataset, [int(0.8*len(train_dataset)), int(0.2*len(train_dataset))])\n",
        "data_loader_train = DataLoader(train_dataset, batch_size=1024)\n",
        "\n",
        "\n"
      ],
      "execution_count": 80,
      "outputs": []
    },
    {
      "cell_type": "code",
      "metadata": {
        "colab": {
          "base_uri": "https://localhost:8080/"
        },
        "id": "0yLUyn7gXleD",
        "outputId": "c78afec5-1939-4a9e-c151-98b80a3a46c4"
      },
      "source": [
        "model = MyModel()\n",
        "\n",
        "loss_function = nn.CrossEntropyLoss()\n",
        "optimizer = torch.optim.Adam(model.parameters())\n",
        "\n",
        "print(model)\n",
        "pytorch_total_params = sum(p.numel() for p in model.parameters() if p.requires_grad)\n",
        "print(pytorch_total_params)"
      ],
      "execution_count": 81,
      "outputs": [
        {
          "output_type": "stream",
          "text": [
            "MyModel(\n",
            "  (conv1): Sequential(\n",
            "    (0): Conv2d(1, 8, kernel_size=(3, 3), stride=(1, 1), padding=(1, 1))\n",
            "    (1): ReLU()\n",
            "    (2): MaxPool2d(kernel_size=2, stride=2, padding=0, dilation=1, ceil_mode=False)\n",
            "    (3): BatchNorm2d(8, eps=1e-05, momentum=0.1, affine=True, track_running_stats=True)\n",
            "  )\n",
            "  (conv2): Sequential(\n",
            "    (0): Conv2d(8, 16, kernel_size=(3, 3), stride=(1, 1), padding=(1, 1))\n",
            "    (1): ReLU()\n",
            "    (2): MaxPool2d(kernel_size=2, stride=2, padding=0, dilation=1, ceil_mode=False)\n",
            "    (3): BatchNorm2d(16, eps=1e-05, momentum=0.1, affine=True, track_running_stats=True)\n",
            "  )\n",
            "  (conv3): Sequential(\n",
            "    (0): Conv2d(16, 32, kernel_size=(3, 3), stride=(1, 1), padding=(1, 1))\n",
            "    (1): ReLU()\n",
            "    (2): BatchNorm2d(32, eps=1e-05, momentum=0.1, affine=True, track_running_stats=True)\n",
            "  )\n",
            "  (flatten): Flatten(start_dim=1, end_dim=-1)\n",
            "  (fc1): Sequential(\n",
            "    (0): Linear(in_features=1568, out_features=728, bias=True)\n",
            "    (1): Sigmoid()\n",
            "  )\n",
            "  (fc2): Sequential(\n",
            "    (0): Linear(in_features=728, out_features=10, bias=True)\n",
            "    (1): Sigmoid()\n",
            "  )\n",
            ")\n",
            "1155522\n"
          ],
          "name": "stdout"
        }
      ]
    },
    {
      "cell_type": "code",
      "metadata": {
        "colab": {
          "base_uri": "https://localhost:8080/",
          "height": 385
        },
        "id": "i8Q4UDOT-k_r",
        "outputId": "2e4c8c81-ade0-4ff9-e144-89109204eb5b"
      },
      "source": [
        "\n",
        "num_epochs = 20\n",
        "for epoch in range(num_epochs):\n",
        "  epoch_loss = 0\n",
        "  epoch_accuracy_train = 0\n",
        "  model.train()\n",
        "  for i, (images, labels) in enumerate(data_loader_train):\n",
        "    out = model(images)\n",
        "    loss = loss_function(out, labels.long())\n",
        "    epoch_loss += loss\n",
        "    \n",
        "    optimizer.zero_grad()\n",
        "    loss.backward()\n",
        "    optimizer.step()\n",
        "    total = labels.size(0)\n",
        "    _, predicted = torch.max(out.data, 1)\n",
        "    correct = (predicted == labels).sum().item()\n",
        "    epoch_accuracy_train += correct/total\n",
        "  print(\"loss: {}\".format(epoch_loss/len(data_loader_train)))\n",
        "  print(\"train acc: {}\".format(epoch_accuracy_train/len(data_loader_train)))\n",
        "  \n",
        "  model.eval()\n",
        "  out = model()\n",
        "\n",
        "  if (epoch_accuracy/len(data_loader_train) >= 0.999):\n",
        "    break"
      ],
      "execution_count": 82,
      "outputs": [
        {
          "output_type": "stream",
          "text": [
            "loss: 1.7265796661376953\n",
            "train acc: 0.8555347647144522\n"
          ],
          "name": "stdout"
        },
        {
          "output_type": "error",
          "ename": "TypeError",
          "evalue": "ignored",
          "traceback": [
            "\u001b[0;31m---------------------------------------------------------------------------\u001b[0m",
            "\u001b[0;31mTypeError\u001b[0m                                 Traceback (most recent call last)",
            "\u001b[0;32m<ipython-input-82-7a076cba557e>\u001b[0m in \u001b[0;36m<module>\u001b[0;34m()\u001b[0m\n\u001b[1;32m     21\u001b[0m \u001b[0;34m\u001b[0m\u001b[0m\n\u001b[1;32m     22\u001b[0m   \u001b[0mmodel\u001b[0m\u001b[0;34m.\u001b[0m\u001b[0meval\u001b[0m\u001b[0;34m(\u001b[0m\u001b[0;34m)\u001b[0m\u001b[0;34m\u001b[0m\u001b[0;34m\u001b[0m\u001b[0m\n\u001b[0;32m---> 23\u001b[0;31m   \u001b[0mout\u001b[0m \u001b[0;34m=\u001b[0m \u001b[0mmodel\u001b[0m\u001b[0;34m(\u001b[0m\u001b[0;34m)\u001b[0m\u001b[0;34m\u001b[0m\u001b[0;34m\u001b[0m\u001b[0m\n\u001b[0m\u001b[1;32m     24\u001b[0m \u001b[0;34m\u001b[0m\u001b[0m\n\u001b[1;32m     25\u001b[0m   \u001b[0;32mif\u001b[0m \u001b[0;34m(\u001b[0m\u001b[0mepoch_accuracy\u001b[0m\u001b[0;34m/\u001b[0m\u001b[0mlen\u001b[0m\u001b[0;34m(\u001b[0m\u001b[0mdata_loader_train\u001b[0m\u001b[0;34m)\u001b[0m \u001b[0;34m>=\u001b[0m \u001b[0;36m0.999\u001b[0m\u001b[0;34m)\u001b[0m\u001b[0;34m:\u001b[0m\u001b[0;34m\u001b[0m\u001b[0;34m\u001b[0m\u001b[0m\n",
            "\u001b[0;32m/usr/local/lib/python3.7/dist-packages/torch/nn/modules/module.py\u001b[0m in \u001b[0;36m_call_impl\u001b[0;34m(self, *input, **kwargs)\u001b[0m\n\u001b[1;32m   1049\u001b[0m         if not (self._backward_hooks or self._forward_hooks or self._forward_pre_hooks or _global_backward_hooks\n\u001b[1;32m   1050\u001b[0m                 or _global_forward_hooks or _global_forward_pre_hooks):\n\u001b[0;32m-> 1051\u001b[0;31m             \u001b[0;32mreturn\u001b[0m \u001b[0mforward_call\u001b[0m\u001b[0;34m(\u001b[0m\u001b[0;34m*\u001b[0m\u001b[0minput\u001b[0m\u001b[0;34m,\u001b[0m \u001b[0;34m**\u001b[0m\u001b[0mkwargs\u001b[0m\u001b[0;34m)\u001b[0m\u001b[0;34m\u001b[0m\u001b[0;34m\u001b[0m\u001b[0m\n\u001b[0m\u001b[1;32m   1052\u001b[0m         \u001b[0;31m# Do not call functions when jit is used\u001b[0m\u001b[0;34m\u001b[0m\u001b[0;34m\u001b[0m\u001b[0;34m\u001b[0m\u001b[0m\n\u001b[1;32m   1053\u001b[0m         \u001b[0mfull_backward_hooks\u001b[0m\u001b[0;34m,\u001b[0m \u001b[0mnon_full_backward_hooks\u001b[0m \u001b[0;34m=\u001b[0m \u001b[0;34m[\u001b[0m\u001b[0;34m]\u001b[0m\u001b[0;34m,\u001b[0m \u001b[0;34m[\u001b[0m\u001b[0;34m]\u001b[0m\u001b[0;34m\u001b[0m\u001b[0;34m\u001b[0m\u001b[0m\n",
            "\u001b[0;31mTypeError\u001b[0m: forward() missing 1 required positional argument: 'x'"
          ]
        }
      ]
    },
    {
      "cell_type": "code",
      "metadata": {
        "colab": {
          "base_uri": "https://localhost:8080/"
        },
        "id": "v3jULcpJ_yYg",
        "outputId": "27fa07be-8031-49b5-e039-92250b5aa686"
      },
      "source": [
        "model.eval()\n",
        "out = model(tensor_test)\n",
        "_, pred = torch.max(out.data, 1)\n",
        "print(pred.numpy().shape)\n",
        "\n",
        "submission = pd.read_csv(\"drive/MyDrive/Kaggle_digits/sample_submission.csv\")\n",
        "submission['Label'] = pred\n",
        "submission.to_csv(\"drive/MyDrive/Kaggle_digits/to_submit2.csv\", index=False)\n"
      ],
      "execution_count": 69,
      "outputs": [
        {
          "output_type": "stream",
          "text": [
            "(28000,)\n"
          ],
          "name": "stdout"
        }
      ]
    },
    {
      "cell_type": "code",
      "metadata": {
        "id": "bMy5bpy8QBvk"
      },
      "source": [
        ""
      ],
      "execution_count": null,
      "outputs": []
    }
  ]
}