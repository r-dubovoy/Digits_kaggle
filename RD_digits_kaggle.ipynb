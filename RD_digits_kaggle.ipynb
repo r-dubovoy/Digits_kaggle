{
  "nbformat": 4,
  "nbformat_minor": 0,
  "metadata": {
    "colab": {
      "name": "RD_digits_kaggle.ipynb",
      "provenance": [],
      "collapsed_sections": []
    },
    "kernelspec": {
      "name": "python3",
      "display_name": "Python 3"
    },
    "language_info": {
      "name": "python"
    }
  },
  "cells": [
    {
      "cell_type": "code",
      "metadata": {
        "id": "l7jLtX2giSyS"
      },
      "source": [
        "print(\"Hello World!\")\n",
        "# First to commit"
      ],
      "execution_count": null,
      "outputs": []
    }
  ]
}